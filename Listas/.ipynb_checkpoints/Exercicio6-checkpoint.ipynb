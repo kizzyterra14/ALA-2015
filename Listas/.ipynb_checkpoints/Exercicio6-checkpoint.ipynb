{
 "metadata": {
  "name": "",
  "signature": "sha256:3b7d32ddee20f09de60baf939b011f01b66dbbc4f91197157614420d97f59194"
 },
 "nbformat": 3,
 "nbformat_minor": 0,
 "worksheets": [
  {
   "cells": [
    {
     "cell_type": "code",
     "collapsed": false,
     "input": [
      "import numpy as np\n",
      "import math"
     ],
     "language": "python",
     "metadata": {},
     "outputs": [],
     "prompt_number": 53
    },
    {
     "cell_type": "code",
     "collapsed": false,
     "input": [
      "def resolverMatrizTriangular(L, b):\n",
      "    x = []\n",
      "    try:\n",
      "        dimensao = b.size\n",
      "        \n",
      "        linhaAtual = 0 #indica linha\n",
      "        primeiroElemento = b.item(linhaAtual)/L.item((linhaAtual, linhaAtual))\n",
      "        x.insert(linhaAtual, primeiroElemento)\n",
      "        linhaAtual += 1\n",
      "        \n",
      "        for linhaAtual in range(1, dimensao):\n",
      "            colunaAtual = 0 #indica coluna\n",
      "            elemento = b.item(linhaAtual)\n",
      "            for colunaAtual in range(0, linhaAtual):\n",
      "                elemento -= L.item((linhaAtual, colunaAtual))*x[colunaAtual]\n",
      "                colunaAtual += 1\n",
      "            elemento /= L.item((linhaAtual, linhaAtual))\n",
      "            x.insert(linhaAtual, elemento)\n",
      "            linhaAtual = linhaAtual + 1\n",
      "    \n",
      "    except Exception as e:\n",
      "        print e\n",
      "        \n",
      "    return x\n"
     ],
     "language": "python",
     "metadata": {},
     "outputs": [],
     "prompt_number": 54
    },
    {
     "cell_type": "code",
     "collapsed": false,
     "input": [
      "L = np.matrix ('1 0 0; 2 3 0; 4 5 6')\n",
      "L"
     ],
     "language": "python",
     "metadata": {},
     "outputs": [
      {
       "metadata": {},
       "output_type": "pyout",
       "prompt_number": 55,
       "text": [
        "matrix([[1, 0, 0],\n",
        "        [2, 3, 0],\n",
        "        [4, 5, 6]])"
       ]
      }
     ],
     "prompt_number": 55
    },
    {
     "cell_type": "code",
     "collapsed": false,
     "input": [
      "b = np.array([2,7,19])\n",
      "b.size"
     ],
     "language": "python",
     "metadata": {},
     "outputs": [
      {
       "metadata": {},
       "output_type": "pyout",
       "prompt_number": 56,
       "text": [
        "3"
       ]
      }
     ],
     "prompt_number": 56
    },
    {
     "cell_type": "code",
     "collapsed": false,
     "input": [
      "resolverMatrizTriangular(L, b)"
     ],
     "language": "python",
     "metadata": {},
     "outputs": [
      {
       "metadata": {},
       "output_type": "pyout",
       "prompt_number": 57,
       "text": [
        "[2, 1, 1]"
       ]
      }
     ],
     "prompt_number": 57
    },
    {
     "cell_type": "code",
     "collapsed": false,
     "input": [],
     "language": "python",
     "metadata": {},
     "outputs": []
    }
   ],
   "metadata": {}
  }
 ]
}